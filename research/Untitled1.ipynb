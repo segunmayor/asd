{
 "cells": [
  {
   "cell_type": "code",
   "execution_count": 2,
   "id": "01a9e98d",
   "metadata": {},
   "outputs": [],
   "source": [
    "# import json # will be needed for saving preprocessing details\n",
    "# import numpy as np # for data manipulation\n",
    "# import pandas as pd # for data manipulation\n",
    "# from sklearn.model_selection import train_test_split # will be used for data split\n",
    "# from sklearn.preprocessing import LabelEncoder # for preprocessing\n",
    "# from sklearn.ensemble import RandomForestClassifier # for training the algorithm\n",
    "# from sklearn.ensemble import ExtraTreesClassifier # for training the algorithm\n",
    "# import joblib # for saving algorithm and preprocessing objects"
   ]
  },
  {
   "cell_type": "code",
   "execution_count": null,
   "id": "f00cbd9f",
   "metadata": {},
   "outputs": [],
   "source": []
  }
 ],
 "metadata": {
  "kernelspec": {
   "display_name": "venv",
   "language": "python",
   "name": "venv"
  },
  "language_info": {
   "codemirror_mode": {
    "name": "ipython",
    "version": 3
   },
   "file_extension": ".py",
   "mimetype": "text/x-python",
   "name": "python",
   "nbconvert_exporter": "python",
   "pygments_lexer": "ipython3",
   "version": "3.10.6"
  }
 },
 "nbformat": 4,
 "nbformat_minor": 5
}
