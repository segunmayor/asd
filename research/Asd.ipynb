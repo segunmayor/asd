{
 "cells": [
  {
   "cell_type": "code",
   "execution_count": 15,
   "id": "57e0934a",
   "metadata": {},
   "outputs": [
    {
     "data": {
      "text/plain": [
       "RangeIndex(start=0, stop=2, step=1)"
      ]
     },
     "execution_count": 15,
     "metadata": {},
     "output_type": "execute_result"
    }
   ],
   "source": [
    "import numpy as np\n",
    "import pandas as pd\n",
    "import os\n",
    "\n",
    "path = os.path\n",
    "dir = '../csv'\n",
    "extension = '.csv'\n",
    "filename = f\"asd{extension}\"\n",
    "\n",
    "if not path.exists(dir):\n",
    "    os.mkdir(dir)\n",
    "\n",
    "absolute_path = path.join(dir,filename)\n",
    "\n",
    "df = pd.read_csv(absolute_path)\n",
    "\n",
    "# guardian = df[\"guardian\"]\n",
    "\n",
    "negative = \"Negative\"\n",
    "positive = \"Positive\"\n",
    "last_item_patient_id = []\n",
    "last_item_index = []\n",
    "\n",
    "reset_index = 1\n",
    "\n",
    "for i in range(len(df)):\n",
    "    # df.loc[i, \"first_name\"] = \"Mayor\"\n",
    "    condition = df.loc[i, \"positive\"] >= df.loc[i, \"negative\"]\n",
    "\n",
    "    # get the patient_id on the last row\n",
    "    l_patient_id = df.loc[i, \"index\"]\n",
    "    last_item_patient_id.append(l_patient_id)\n",
    "\n",
    "    # get the last item id\n",
    "\n",
    "    if condition:\n",
    "        df.loc[i, \"asd_status\"] = positive\n",
    "    else:\n",
    "        df.loc[i, \"asd_status\"] = negative\n",
    "\n",
    "processed_dir = '../csv/processed'\n",
    "processed_filename = f\"processed_asd{extension}\"\n",
    "\n",
    "if not path.exists(processed_dir):\n",
    "    os.mkdir(processed_dir)\n",
    "\n",
    "absolute_processed_path = path.join(processed_dir,processed_filename)\n",
    "\n",
    "if not os.path.isfile(absolute_processed_path):\n",
    "    df.to_csv(absolute_processed_path)\n",
    "\n",
    "# extract int from patient_id strings\n",
    "extract_int = [str(i) for i in last_item_patient_id[-1] if i.isdigit()]\n",
    "\n",
    "# extract str from patient_id strings\n",
    "extracted_str = [str(i) for i in last_item_patient_id[-1] if not i.isdigit()]\n",
    "\n",
    "delimeter = ''\n",
    "# delimeter.join(extract_int) #+ reset_index\n",
    "df.index = str(delimeter.join(extracted_str)) + str(int(delimeter.join(extract_int)) + reset_index)\n",
    "\n",
    "# l_index = df[-1].index\n",
    "\n",
    "df.to_csv(absolute_processed_path, header=False)\n",
    "\n",
    "df"
   ]
  }
 ],
 "metadata": {
  "kernelspec": {
   "display_name": "venv",
   "language": "python",
   "name": "venv"
  },
  "language_info": {
   "codemirror_mode": {
    "name": "ipython",
    "version": 3
   },
   "file_extension": ".py",
   "mimetype": "text/x-python",
   "name": "python",
   "nbconvert_exporter": "python",
   "pygments_lexer": "ipython3",
   "version": "3.10.12"
  }
 },
 "nbformat": 4,
 "nbformat_minor": 5
}
